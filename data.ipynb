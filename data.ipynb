{
 "cells": [
  {
   "cell_type": "code",
   "execution_count": 1,
   "metadata": {},
   "outputs": [],
   "source": [
    "import xml.etree.ElementTree as ET\n",
    "import os\n",
    "import utils"
   ]
  },
  {
   "cell_type": "code",
   "execution_count": 2,
   "metadata": {},
   "outputs": [],
   "source": [
    "root_path = \"F:\\paper\\PASCALVOC\\VOCdevkit_t_v\\VOC2012\\Annotations\""
   ]
  },
  {
   "cell_type": "code",
   "execution_count": 3,
   "metadata": {},
   "outputs": [],
   "source": [
    "filenames = os.listdir(root_path)"
   ]
  },
  {
   "cell_type": "code",
   "execution_count": 4,
   "metadata": {},
   "outputs": [],
   "source": [
    "image_root_paths = os.listdir(\"F:\\paper\\PASCALVOC\\VOCdevkit_t_v\\VOC2012\\JPEGImages\")"
   ]
  },
  {
   "cell_type": "code",
   "execution_count": 5,
   "metadata": {},
   "outputs": [],
   "source": [
    "train_path, val_path, test_path = utils.ran_split(filenames, shuffle=True, ratio1=0.7, ratio2=0.2)"
   ]
  },
  {
   "cell_type": "code",
   "execution_count": 6,
   "metadata": {},
   "outputs": [
    {
     "name": "stderr",
     "output_type": "stream",
     "text": [
      "100%|██████████| 12112/12112 [00:05<00:00, 2307.07it/s]\n",
      "100%|██████████| 3460/3460 [00:01<00:00, 2450.04it/s]\n",
      "100%|██████████| 1731/1731 [00:00<00:00, 2271.77it/s]\n"
     ]
    }
   ],
   "source": [
    "train_path_list, train_annotation_list = utils.read_xml(root_path, train_path, image_root_paths)\n",
    "val_path_list, val_annotation_list = utils.read_xml(root_path, val_path, image_root_paths)     \n",
    "test_path_list, test_annotation_list = utils.read_xml(root_path, test_path, image_root_paths)     "
   ]
  },
  {
   "cell_type": "code",
   "execution_count": 7,
   "metadata": {},
   "outputs": [
    {
     "name": "stderr",
     "output_type": "stream",
     "text": [
      "100%|██████████| 11984/11984 [00:00<00:00, 400542.98it/s]\n",
      "100%|██████████| 11984/11984 [00:00<00:00, 235614.29it/s]\n"
     ]
    },
    {
     "name": "stdout",
     "output_type": "stream",
     "text": [
      "[Success] Write paths of data in file ./data/train-path.txt\n",
      "[Success] Write annotations of data in file ./data/train-anno.txt\n"
     ]
    },
    {
     "name": "stderr",
     "output_type": "stream",
     "text": [
      "100%|██████████| 3426/3426 [00:00<00:00, 343509.41it/s]\n",
      "100%|██████████| 3426/3426 [00:00<00:00, 214716.48it/s]\n"
     ]
    },
    {
     "name": "stdout",
     "output_type": "stream",
     "text": [
      "[Success] Write paths of data in file ./data/val-path.txt\n",
      "[Success] Write annotations of data in file ./data/val-anno.txt\n"
     ]
    },
    {
     "name": "stderr",
     "output_type": "stream",
     "text": [
      "100%|██████████| 1715/1715 [00:00<00:00, 286720.00it/s]\n",
      "100%|██████████| 1715/1715 [00:00<00:00, 171996.35it/s]"
     ]
    },
    {
     "name": "stdout",
     "output_type": "stream",
     "text": [
      "[Success] Write paths of data in file ./data/test-path.txt\n",
      "[Success] Write annotations of data in file ./data/test-anno.txt\n"
     ]
    },
    {
     "name": "stderr",
     "output_type": "stream",
     "text": [
      "\n"
     ]
    }
   ],
   "source": [
    "utils.write_data_path(\"./data/train\",train_path_list,train_annotation_list)\n",
    "utils.write_data_path(\"./data/val\",val_path_list,val_annotation_list)\n",
    "utils.write_data_path(\"./data/test\",test_path_list,test_annotation_list)"
   ]
  }
 ],
 "metadata": {
  "kernelspec": {
   "display_name": "Python 3.9.12 ('env1')",
   "language": "python",
   "name": "python3"
  },
  "language_info": {
   "codemirror_mode": {
    "name": "ipython",
    "version": 3
   },
   "file_extension": ".py",
   "mimetype": "text/x-python",
   "name": "python",
   "nbconvert_exporter": "python",
   "pygments_lexer": "ipython3",
   "version": "3.9.12"
  },
  "orig_nbformat": 4,
  "vscode": {
   "interpreter": {
    "hash": "ac2c9fc71220d1b58b3640599b1e22027da1326aa67720425adf09ad6c638495"
   }
  }
 },
 "nbformat": 4,
 "nbformat_minor": 2
}
