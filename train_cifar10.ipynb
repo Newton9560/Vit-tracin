{
 "cells": [
  {
   "cell_type": "code",
   "execution_count": 1,
   "metadata": {},
   "outputs": [],
   "source": [
    "import utils\n",
    "from torchvision import transforms\n",
    "import my_dataset\n",
    "import os\n",
    "import torch\n",
    "from tqdm import tqdm\n",
    "from models.vit import ViT\n",
    "from torch.utils.tensorboard import SummaryWriter"
   ]
  },
  {
   "cell_type": "code",
   "execution_count": 2,
   "metadata": {},
   "outputs": [],
   "source": [
    "batch_size = 32\n",
    "size = 32\n",
    "lr = 2e-4\n",
    "epochs = 150\n",
    "save = True"
   ]
  },
  {
   "cell_type": "code",
   "execution_count": 3,
   "metadata": {},
   "outputs": [],
   "source": [
    "writer = SummaryWriter(log_dir = 'logs')"
   ]
  },
  {
   "cell_type": "code",
   "execution_count": 4,
   "metadata": {},
   "outputs": [],
   "source": [
    "train_data = utils.read_file(\"../cifar10/train_data.txt\")\n",
    "val_data = utils.read_file(\"../cifar10/val_data.txt\")\n",
    "test_data = utils.read_file(\"../cifar10/test_data.txt\")\n",
    "data_transform = {\n",
    "        \"train\": transforms.Compose([\n",
    "                                    transforms.RandomCrop(32, padding=4),\n",
    "                                    transforms.Resize(size),\n",
    "                                    transforms.RandomHorizontalFlip(),\n",
    "                                     transforms.ToTensor(),\n",
    "                                     transforms.Normalize([0.5, 0.5, 0.5], [0.5, 0.5, 0.5])]),\n",
    "        \"val\": transforms.Compose([transforms.ToTensor(),\n",
    "                                   transforms.Normalize([0.5, 0.5, 0.5], [0.5, 0.5, 0.5])])}\n",
    "train_dataset = my_dataset.MyDataSet_CIFAR(images_path=train_data,\n",
    "                        transform=data_transform[\"train\"])\n",
    "\n",
    "val_dataset = my_dataset.MyDataSet_CIFAR(images_path=val_data,\n",
    "                        transform=data_transform[\"val\"])"
   ]
  },
  {
   "cell_type": "code",
   "execution_count": 5,
   "metadata": {},
   "outputs": [
    {
     "name": "stdout",
     "output_type": "stream",
     "text": [
      "Using 8 dataloader workers every process\n"
     ]
    }
   ],
   "source": [
    "nw = min([os.cpu_count(), batch_size if batch_size > 1 else 0, 8])  # number of workers\n",
    "print('Using {} dataloader workers every process'.format(nw))"
   ]
  },
  {
   "cell_type": "code",
   "execution_count": 6,
   "metadata": {},
   "outputs": [],
   "source": [
    "train_loader = torch.utils.data.DataLoader(train_dataset,\n",
    "                                            batch_size = batch_size,\n",
    "                                            shuffle=True,\n",
    "                                            pin_memory=True,\n",
    "                                            num_workers=nw,\n",
    "                                            collate_fn=train_dataset.collate_fn)\n",
    "\n",
    "val_loader = torch.utils.data.DataLoader(val_dataset,\n",
    "                                            batch_size = batch_size,\n",
    "                                            shuffle=True,\n",
    "                                            pin_memory=True,\n",
    "                                            num_workers=nw,\n",
    "                                            collate_fn=val_dataset.collate_fn)"
   ]
  },
  {
   "cell_type": "code",
   "execution_count": 7,
   "metadata": {},
   "outputs": [],
   "source": [
    "device = torch.device(\"cuda:0\" if torch.cuda.is_available() else \"cpu\")"
   ]
  },
  {
   "cell_type": "code",
   "execution_count": 8,
   "metadata": {},
   "outputs": [],
   "source": [
    "model = ViT(\n",
    "    image_size = size,\n",
    "    patch_size = 4,\n",
    "    num_classes = 10,\n",
    "    dim = 512,\n",
    "    depth = 6,\n",
    "    heads = 8,\n",
    "    mlp_dim = 512,\n",
    "    dropout = 0.1,\n",
    "    emb_dropout = 0.1\n",
    ").to(device)"
   ]
  },
  {
   "cell_type": "code",
   "execution_count": 9,
   "metadata": {},
   "outputs": [
    {
     "name": "stderr",
     "output_type": "stream",
     "text": [
      "/home/lhw/anaconda3/envs/env1/lib/python3.9/site-packages/einops/einops.py:202: UserWarning: __floordiv__ is deprecated, and its behavior will change in a future version of pytorch. It currently rounds toward 0 (like the 'trunc' function NOT 'floor'). This results in incorrect rounding for negative values. To keep the current behavior, use torch.div(a, b, rounding_mode='trunc'), or for actual floor division, use torch.div(a, b, rounding_mode='floor').\n",
      "  inferred_length: int = length // known_product\n"
     ]
    }
   ],
   "source": [
    "input = torch.randn(1, 3, 32, 32).to(device)\n",
    "writer.add_graph(model, input)"
   ]
  },
  {
   "cell_type": "code",
   "execution_count": 10,
   "metadata": {},
   "outputs": [],
   "source": [
    "loss_function = torch.nn.CrossEntropyLoss()\n",
    "optimizer = torch.optim.Adam(model.parameters(), lr=lr)\n",
    "scheduler = torch.optim.lr_scheduler.CosineAnnealingLR(optimizer, epochs)"
   ]
  },
  {
   "cell_type": "code",
   "execution_count": 11,
   "metadata": {},
   "outputs": [],
   "source": [
    "tags = [\"train_loss\", \"train_acc\", \"val_loss\", \"val_acc\", \"learning_rate\"]\n",
    "best_acc = 0"
   ]
  },
  {
   "cell_type": "code",
   "execution_count": 12,
   "metadata": {},
   "outputs": [
    {
     "name": "stderr",
     "output_type": "stream",
     "text": [
      "[train epoch 0] loss: 1.861, acc: 0.315: 100%|██████████| 1094/1094 [00:52<00:00, 20.66it/s]\n",
      "[valid epoch 0] loss: 1.600, acc: 0.415: 100%|██████████| 313/313 [00:05<00:00, 61.58it/s]\n"
     ]
    },
    {
     "name": "stdout",
     "output_type": "stream",
     "text": [
      "The best model is save!\n"
     ]
    },
    {
     "name": "stderr",
     "output_type": "stream",
     "text": [
      "[train epoch 1] loss: 1.622, acc: 0.407: 100%|██████████| 1094/1094 [00:53<00:00, 20.44it/s]\n",
      "[valid epoch 1] loss: 1.541, acc: 0.451: 100%|██████████| 313/313 [00:05<00:00, 61.50it/s]\n"
     ]
    },
    {
     "name": "stdout",
     "output_type": "stream",
     "text": [
      "The best model is save!\n"
     ]
    },
    {
     "name": "stderr",
     "output_type": "stream",
     "text": [
      "[train epoch 2] loss: 1.551, acc: 0.435: 100%|██████████| 1094/1094 [00:53<00:00, 20.41it/s]\n",
      "[valid epoch 2] loss: 1.416, acc: 0.491: 100%|██████████| 313/313 [00:05<00:00, 60.45it/s]\n"
     ]
    },
    {
     "name": "stdout",
     "output_type": "stream",
     "text": [
      "The best model is save!\n"
     ]
    },
    {
     "name": "stderr",
     "output_type": "stream",
     "text": [
      "[train epoch 3] loss: 1.501, acc: 0.455: 100%|██████████| 1094/1094 [00:53<00:00, 20.36it/s]\n",
      "[valid epoch 3] loss: 1.399, acc: 0.501: 100%|██████████| 313/313 [00:05<00:00, 61.08it/s]\n"
     ]
    },
    {
     "name": "stdout",
     "output_type": "stream",
     "text": [
      "The best model is save!\n"
     ]
    },
    {
     "name": "stderr",
     "output_type": "stream",
     "text": [
      "[train epoch 4] loss: 1.462, acc: 0.471: 100%|██████████| 1094/1094 [00:53<00:00, 20.35it/s]\n",
      "[valid epoch 4] loss: 1.359, acc: 0.508: 100%|██████████| 313/313 [00:05<00:00, 61.17it/s]\n"
     ]
    },
    {
     "name": "stdout",
     "output_type": "stream",
     "text": [
      "The best model is save!\n"
     ]
    },
    {
     "name": "stderr",
     "output_type": "stream",
     "text": [
      "[train epoch 5] loss: 1.427, acc: 0.486: 100%|██████████| 1094/1094 [00:53<00:00, 20.27it/s]\n",
      "[valid epoch 5] loss: 1.338, acc: 0.517: 100%|██████████| 313/313 [00:05<00:00, 61.00it/s]\n"
     ]
    },
    {
     "name": "stdout",
     "output_type": "stream",
     "text": [
      "The best model is save!\n"
     ]
    },
    {
     "name": "stderr",
     "output_type": "stream",
     "text": [
      "[train epoch 6] loss: 1.405, acc: 0.490: 100%|██████████| 1094/1094 [00:54<00:00, 20.01it/s]\n",
      "[valid epoch 6] loss: 1.322, acc: 0.523: 100%|██████████| 313/313 [00:05<00:00, 60.63it/s]\n"
     ]
    },
    {
     "name": "stdout",
     "output_type": "stream",
     "text": [
      "The best model is save!\n"
     ]
    },
    {
     "name": "stderr",
     "output_type": "stream",
     "text": [
      "[train epoch 7] loss: 1.387, acc: 0.499: 100%|██████████| 1094/1094 [00:54<00:00, 20.12it/s]\n",
      "[valid epoch 7] loss: 1.282, acc: 0.533: 100%|██████████| 313/313 [00:05<00:00, 60.30it/s]\n"
     ]
    },
    {
     "name": "stdout",
     "output_type": "stream",
     "text": [
      "The best model is save!\n"
     ]
    },
    {
     "name": "stderr",
     "output_type": "stream",
     "text": [
      "[train epoch 8] loss: 1.361, acc: 0.505: 100%|██████████| 1094/1094 [00:54<00:00, 20.09it/s]\n",
      "[valid epoch 8] loss: 1.282, acc: 0.534: 100%|██████████| 313/313 [00:05<00:00, 59.90it/s]\n"
     ]
    },
    {
     "name": "stdout",
     "output_type": "stream",
     "text": [
      "The best model is save!\n"
     ]
    },
    {
     "name": "stderr",
     "output_type": "stream",
     "text": [
      "[train epoch 9] loss: 1.346, acc: 0.508: 100%|██████████| 1094/1094 [00:54<00:00, 20.11it/s]\n",
      "[valid epoch 9] loss: 1.298, acc: 0.533: 100%|██████████| 313/313 [00:05<00:00, 60.43it/s]\n",
      "[train epoch 10] loss: 1.329, acc: 0.517: 100%|██████████| 1094/1094 [00:54<00:00, 20.16it/s]\n",
      "[valid epoch 10] loss: 1.251, acc: 0.545: 100%|██████████| 313/313 [00:05<00:00, 60.66it/s]\n"
     ]
    },
    {
     "name": "stdout",
     "output_type": "stream",
     "text": [
      "The best model is save!\n"
     ]
    },
    {
     "name": "stderr",
     "output_type": "stream",
     "text": [
      "[train epoch 11] loss: 1.303, acc: 0.528: 100%|██████████| 1094/1094 [00:54<00:00, 20.13it/s]\n",
      "[valid epoch 11] loss: 1.257, acc: 0.550: 100%|██████████| 313/313 [00:05<00:00, 60.54it/s]\n"
     ]
    },
    {
     "name": "stdout",
     "output_type": "stream",
     "text": [
      "The best model is save!\n"
     ]
    },
    {
     "name": "stderr",
     "output_type": "stream",
     "text": [
      "[train epoch 12] loss: 1.302, acc: 0.524: 100%|██████████| 1094/1094 [00:54<00:00, 20.11it/s]\n",
      "[valid epoch 12] loss: 1.222, acc: 0.562: 100%|██████████| 313/313 [00:05<00:00, 60.32it/s]\n"
     ]
    },
    {
     "name": "stdout",
     "output_type": "stream",
     "text": [
      "The best model is save!\n"
     ]
    },
    {
     "name": "stderr",
     "output_type": "stream",
     "text": [
      "[train epoch 13] loss: 1.280, acc: 0.533: 100%|██████████| 1094/1094 [00:54<00:00, 20.05it/s]\n",
      "[valid epoch 13] loss: 1.218, acc: 0.563: 100%|██████████| 313/313 [00:05<00:00, 60.12it/s]\n"
     ]
    },
    {
     "name": "stdout",
     "output_type": "stream",
     "text": [
      "The best model is save!\n"
     ]
    },
    {
     "name": "stderr",
     "output_type": "stream",
     "text": [
      "[train epoch 14] loss: 1.264, acc: 0.542: 100%|██████████| 1094/1094 [00:54<00:00, 19.93it/s]\n",
      "[valid epoch 14] loss: 1.199, acc: 0.569: 100%|██████████| 313/313 [00:05<00:00, 59.88it/s]\n"
     ]
    },
    {
     "name": "stdout",
     "output_type": "stream",
     "text": [
      "The best model is save!\n"
     ]
    },
    {
     "name": "stderr",
     "output_type": "stream",
     "text": [
      "[train epoch 15] loss: 1.246, acc: 0.550: 100%|██████████| 1094/1094 [00:54<00:00, 19.92it/s]\n",
      "[valid epoch 15] loss: 1.194, acc: 0.572: 100%|██████████| 313/313 [00:05<00:00, 59.94it/s]\n"
     ]
    },
    {
     "name": "stdout",
     "output_type": "stream",
     "text": [
      "The best model is save!\n"
     ]
    },
    {
     "name": "stderr",
     "output_type": "stream",
     "text": [
      "[train epoch 16] loss: 1.224, acc: 0.556: 100%|██████████| 1094/1094 [00:54<00:00, 20.08it/s]\n",
      "[valid epoch 16] loss: 1.154, acc: 0.589: 100%|██████████| 313/313 [00:05<00:00, 60.60it/s]\n"
     ]
    },
    {
     "name": "stdout",
     "output_type": "stream",
     "text": [
      "The best model is save!\n"
     ]
    },
    {
     "name": "stderr",
     "output_type": "stream",
     "text": [
      "[train epoch 17] loss: 1.208, acc: 0.565: 100%|██████████| 1094/1094 [00:54<00:00, 20.23it/s]\n",
      "[valid epoch 17] loss: 1.138, acc: 0.590: 100%|██████████| 313/313 [00:05<00:00, 60.76it/s]\n"
     ]
    },
    {
     "name": "stdout",
     "output_type": "stream",
     "text": [
      "The best model is save!\n"
     ]
    },
    {
     "name": "stderr",
     "output_type": "stream",
     "text": [
      "[train epoch 18] loss: 1.192, acc: 0.572: 100%|██████████| 1094/1094 [00:54<00:00, 20.22it/s]\n",
      "[valid epoch 18] loss: 1.129, acc: 0.598: 100%|██████████| 313/313 [00:05<00:00, 60.51it/s]\n"
     ]
    },
    {
     "name": "stdout",
     "output_type": "stream",
     "text": [
      "The best model is save!\n"
     ]
    },
    {
     "name": "stderr",
     "output_type": "stream",
     "text": [
      "[train epoch 19] loss: 1.182, acc: 0.571: 100%|██████████| 1094/1094 [00:54<00:00, 20.17it/s]\n",
      "[valid epoch 19] loss: 1.123, acc: 0.595: 100%|██████████| 313/313 [00:05<00:00, 60.00it/s]\n",
      "[train epoch 20] loss: 1.160, acc: 0.586: 100%|██████████| 1094/1094 [00:54<00:00, 20.03it/s]\n",
      "[valid epoch 20] loss: 1.124, acc: 0.596: 100%|██████████| 313/313 [00:05<00:00, 60.19it/s]\n",
      "[train epoch 21] loss: 1.145, acc: 0.590: 100%|██████████| 1094/1094 [00:54<00:00, 20.19it/s]\n",
      "[valid epoch 21] loss: 1.109, acc: 0.609: 100%|██████████| 313/313 [00:05<00:00, 60.35it/s]\n"
     ]
    },
    {
     "name": "stdout",
     "output_type": "stream",
     "text": [
      "The best model is save!\n"
     ]
    },
    {
     "name": "stderr",
     "output_type": "stream",
     "text": [
      "[train epoch 22] loss: 1.129, acc: 0.590: 100%|██████████| 1094/1094 [00:54<00:00, 20.20it/s]\n",
      "[valid epoch 22] loss: 1.082, acc: 0.617: 100%|██████████| 313/313 [00:05<00:00, 60.56it/s]\n"
     ]
    },
    {
     "name": "stdout",
     "output_type": "stream",
     "text": [
      "The best model is save!\n"
     ]
    },
    {
     "name": "stderr",
     "output_type": "stream",
     "text": [
      "[train epoch 23] loss: 1.112, acc: 0.601: 100%|██████████| 1094/1094 [00:53<00:00, 20.30it/s]\n",
      "[valid epoch 23] loss: 1.070, acc: 0.617: 100%|██████████| 313/313 [00:05<00:00, 60.70it/s]\n"
     ]
    },
    {
     "name": "stdout",
     "output_type": "stream",
     "text": [
      "The best model is save!\n"
     ]
    },
    {
     "name": "stderr",
     "output_type": "stream",
     "text": [
      "[train epoch 24] loss: 1.097, acc: 0.606: 100%|██████████| 1094/1094 [00:53<00:00, 20.28it/s]\n",
      "[valid epoch 24] loss: 1.062, acc: 0.617: 100%|██████████| 313/313 [00:05<00:00, 60.54it/s]\n",
      "[train epoch 25] loss: 1.076, acc: 0.612: 100%|██████████| 1094/1094 [00:53<00:00, 20.30it/s]\n",
      "[valid epoch 25] loss: 1.035, acc: 0.631: 100%|██████████| 313/313 [00:05<00:00, 61.22it/s]\n"
     ]
    },
    {
     "name": "stdout",
     "output_type": "stream",
     "text": [
      "The best model is save!\n"
     ]
    },
    {
     "name": "stderr",
     "output_type": "stream",
     "text": [
      "[train epoch 26] loss: 1.060, acc: 0.618: 100%|██████████| 1094/1094 [00:54<00:00, 20.19it/s]\n",
      "[valid epoch 26] loss: 1.031, acc: 0.635: 100%|██████████| 313/313 [00:05<00:00, 60.59it/s]\n"
     ]
    },
    {
     "name": "stdout",
     "output_type": "stream",
     "text": [
      "The best model is save!\n"
     ]
    },
    {
     "name": "stderr",
     "output_type": "stream",
     "text": [
      "[train epoch 27] loss: 1.047, acc: 0.623: 100%|██████████| 1094/1094 [00:53<00:00, 20.41it/s]\n",
      "[valid epoch 27] loss: 1.013, acc: 0.641: 100%|██████████| 313/313 [00:05<00:00, 61.01it/s]\n"
     ]
    },
    {
     "name": "stdout",
     "output_type": "stream",
     "text": [
      "The best model is save!\n"
     ]
    },
    {
     "name": "stderr",
     "output_type": "stream",
     "text": [
      "[train epoch 28] loss: 1.027, acc: 0.631: 100%|██████████| 1094/1094 [00:53<00:00, 20.36it/s]\n",
      "[valid epoch 28] loss: 1.007, acc: 0.641: 100%|██████████| 313/313 [00:05<00:00, 61.38it/s]\n"
     ]
    },
    {
     "name": "stdout",
     "output_type": "stream",
     "text": [
      "The best model is save!\n"
     ]
    },
    {
     "name": "stderr",
     "output_type": "stream",
     "text": [
      "[train epoch 29] loss: 1.010, acc: 0.637: 100%|██████████| 1094/1094 [00:53<00:00, 20.42it/s]\n",
      "[valid epoch 29] loss: 1.021, acc: 0.640: 100%|██████████| 313/313 [00:05<00:00, 61.63it/s]\n",
      "[train epoch 30] loss: 0.996, acc: 0.643: 100%|██████████| 1094/1094 [00:53<00:00, 20.50it/s]\n",
      "[valid epoch 30] loss: 1.003, acc: 0.649: 100%|██████████| 313/313 [00:05<00:00, 61.66it/s]\n"
     ]
    },
    {
     "name": "stdout",
     "output_type": "stream",
     "text": [
      "The best model is save!\n"
     ]
    },
    {
     "name": "stderr",
     "output_type": "stream",
     "text": [
      "[train epoch 31] loss: 0.977, acc: 0.650: 100%|██████████| 1094/1094 [00:53<00:00, 20.52it/s]\n",
      "[valid epoch 31] loss: 0.984, acc: 0.650: 100%|██████████| 313/313 [00:05<00:00, 61.70it/s]\n"
     ]
    },
    {
     "name": "stdout",
     "output_type": "stream",
     "text": [
      "The best model is save!\n"
     ]
    },
    {
     "name": "stderr",
     "output_type": "stream",
     "text": [
      "[train epoch 32] loss: 0.960, acc: 0.655: 100%|██████████| 1094/1094 [00:53<00:00, 20.53it/s]\n",
      "[valid epoch 32] loss: 0.966, acc: 0.658: 100%|██████████| 313/313 [00:05<00:00, 61.75it/s]\n"
     ]
    },
    {
     "name": "stdout",
     "output_type": "stream",
     "text": [
      "The best model is save!\n"
     ]
    },
    {
     "name": "stderr",
     "output_type": "stream",
     "text": [
      "[train epoch 33] loss: 0.947, acc: 0.663: 100%|██████████| 1094/1094 [00:53<00:00, 20.45it/s]\n",
      "[valid epoch 33] loss: 0.953, acc: 0.666: 100%|██████████| 313/313 [00:05<00:00, 60.93it/s]\n"
     ]
    },
    {
     "name": "stdout",
     "output_type": "stream",
     "text": [
      "The best model is save!\n"
     ]
    },
    {
     "name": "stderr",
     "output_type": "stream",
     "text": [
      "[train epoch 34] loss: 0.929, acc: 0.667: 100%|██████████| 1094/1094 [00:53<00:00, 20.29it/s]\n",
      "[valid epoch 34] loss: 0.948, acc: 0.661: 100%|██████████| 313/313 [00:05<00:00, 60.83it/s]\n",
      "[train epoch 35] loss: 0.909, acc: 0.673: 100%|██████████| 1094/1094 [00:53<00:00, 20.35it/s]\n",
      "[valid epoch 35] loss: 0.922, acc: 0.674: 100%|██████████| 313/313 [00:05<00:00, 61.15it/s]\n"
     ]
    },
    {
     "name": "stdout",
     "output_type": "stream",
     "text": [
      "The best model is save!\n"
     ]
    },
    {
     "name": "stderr",
     "output_type": "stream",
     "text": [
      "[train epoch 36] loss: 0.897, acc: 0.678: 100%|██████████| 1094/1094 [00:54<00:00, 20.22it/s]\n",
      "[valid epoch 36] loss: 0.938, acc: 0.665: 100%|██████████| 313/313 [00:05<00:00, 61.05it/s]\n",
      "[train epoch 37] loss: 0.874, acc: 0.686: 100%|██████████| 1094/1094 [00:53<00:00, 20.29it/s]\n",
      "[valid epoch 37] loss: 0.937, acc: 0.673: 100%|██████████| 313/313 [00:05<00:00, 60.69it/s]\n",
      "[train epoch 38] loss: 0.861, acc: 0.689: 100%|██████████| 1094/1094 [00:53<00:00, 20.27it/s]\n",
      "[valid epoch 38] loss: 0.961, acc: 0.661: 100%|██████████| 313/313 [00:05<00:00, 60.82it/s]\n",
      "[train epoch 39] loss: 0.844, acc: 0.697: 100%|██████████| 1094/1094 [00:54<00:00, 20.26it/s]\n",
      "[valid epoch 39] loss: 0.919, acc: 0.680: 100%|██████████| 313/313 [00:05<00:00, 60.73it/s]\n"
     ]
    },
    {
     "name": "stdout",
     "output_type": "stream",
     "text": [
      "The best model is save!\n"
     ]
    },
    {
     "name": "stderr",
     "output_type": "stream",
     "text": [
      "[train epoch 40] loss: 0.828, acc: 0.702: 100%|██████████| 1094/1094 [00:54<00:00, 20.24it/s]\n",
      "[valid epoch 40] loss: 0.958, acc: 0.672: 100%|██████████| 313/313 [00:05<00:00, 61.01it/s]\n",
      "[train epoch 41] loss: 0.810, acc: 0.708: 100%|██████████| 1094/1094 [00:54<00:00, 20.24it/s]\n",
      "[valid epoch 41] loss: 0.904, acc: 0.683: 100%|██████████| 313/313 [00:05<00:00, 60.71it/s]\n"
     ]
    },
    {
     "name": "stdout",
     "output_type": "stream",
     "text": [
      "The best model is save!\n"
     ]
    },
    {
     "name": "stderr",
     "output_type": "stream",
     "text": [
      "[train epoch 42] loss: 0.796, acc: 0.714: 100%|██████████| 1094/1094 [00:54<00:00, 20.21it/s]\n",
      "[valid epoch 42] loss: 0.924, acc: 0.679: 100%|██████████| 313/313 [00:05<00:00, 60.69it/s]\n",
      "[train epoch 43] loss: 0.773, acc: 0.720: 100%|██████████| 1094/1094 [00:54<00:00, 20.13it/s]\n",
      "[valid epoch 43] loss: 0.900, acc: 0.687: 100%|██████████| 313/313 [00:05<00:00, 60.76it/s]\n"
     ]
    },
    {
     "name": "stdout",
     "output_type": "stream",
     "text": [
      "The best model is save!\n"
     ]
    },
    {
     "name": "stderr",
     "output_type": "stream",
     "text": [
      "[train epoch 44] loss: 0.759, acc: 0.728: 100%|██████████| 1094/1094 [00:54<00:00, 20.14it/s]\n",
      "[valid epoch 44] loss: 0.899, acc: 0.683: 100%|██████████| 313/313 [00:05<00:00, 60.50it/s]\n",
      "[train epoch 45] loss: 0.740, acc: 0.735: 100%|██████████| 1094/1094 [00:54<00:00, 20.13it/s]\n",
      "[valid epoch 45] loss: 0.917, acc: 0.688: 100%|██████████| 313/313 [00:05<00:00, 60.31it/s]\n"
     ]
    },
    {
     "name": "stdout",
     "output_type": "stream",
     "text": [
      "The best model is save!\n"
     ]
    },
    {
     "name": "stderr",
     "output_type": "stream",
     "text": [
      "[train epoch 46] loss: 0.724, acc: 0.739: 100%|██████████| 1094/1094 [00:54<00:00, 20.08it/s]\n",
      "[valid epoch 46] loss: 0.886, acc: 0.691: 100%|██████████| 313/313 [00:05<00:00, 60.02it/s]\n"
     ]
    },
    {
     "name": "stdout",
     "output_type": "stream",
     "text": [
      "The best model is save!\n"
     ]
    },
    {
     "name": "stderr",
     "output_type": "stream",
     "text": [
      "[train epoch 47] loss: 0.706, acc: 0.746: 100%|██████████| 1094/1094 [00:54<00:00, 20.09it/s]\n",
      "[valid epoch 47] loss: 0.913, acc: 0.684: 100%|██████████| 313/313 [00:05<00:00, 60.23it/s]\n",
      "[train epoch 48] loss: 0.692, acc: 0.750: 100%|██████████| 1094/1094 [00:54<00:00, 20.10it/s]\n",
      "[valid epoch 48] loss: 0.887, acc: 0.697: 100%|██████████| 313/313 [00:05<00:00, 59.95it/s]\n"
     ]
    },
    {
     "name": "stdout",
     "output_type": "stream",
     "text": [
      "The best model is save!\n"
     ]
    },
    {
     "name": "stderr",
     "output_type": "stream",
     "text": [
      "[train epoch 49] loss: 0.672, acc: 0.758: 100%|██████████| 1094/1094 [00:54<00:00, 20.09it/s]\n",
      "[valid epoch 49] loss: 0.909, acc: 0.697: 100%|██████████| 313/313 [00:05<00:00, 60.13it/s]\n",
      "[train epoch 50] loss: 0.656, acc: 0.763: 100%|██████████| 1094/1094 [00:54<00:00, 20.10it/s]\n",
      "[valid epoch 50] loss: 0.928, acc: 0.698: 100%|██████████| 313/313 [00:05<00:00, 60.15it/s]\n"
     ]
    },
    {
     "name": "stdout",
     "output_type": "stream",
     "text": [
      "The best model is save!\n"
     ]
    },
    {
     "name": "stderr",
     "output_type": "stream",
     "text": [
      "[train epoch 51] loss: 0.646, acc: 0.768: 100%|██████████| 1094/1094 [00:54<00:00, 20.07it/s]\n",
      "[valid epoch 51] loss: 0.918, acc: 0.696: 100%|██████████| 313/313 [00:05<00:00, 60.29it/s]\n",
      "[train epoch 52] loss: 0.625, acc: 0.775: 100%|██████████| 1094/1094 [00:54<00:00, 20.02it/s]\n",
      "[valid epoch 52] loss: 0.893, acc: 0.708: 100%|██████████| 313/313 [00:05<00:00, 59.37it/s]\n"
     ]
    },
    {
     "name": "stdout",
     "output_type": "stream",
     "text": [
      "The best model is save!\n"
     ]
    },
    {
     "name": "stderr",
     "output_type": "stream",
     "text": [
      "[train epoch 53] loss: 0.609, acc: 0.780: 100%|██████████| 1094/1094 [00:54<00:00, 20.03it/s]\n",
      "[valid epoch 53] loss: 0.886, acc: 0.707: 100%|██████████| 313/313 [00:05<00:00, 60.31it/s]\n",
      "[train epoch 54] loss: 0.594, acc: 0.785: 100%|██████████| 1094/1094 [00:54<00:00, 20.09it/s]\n",
      "[valid epoch 54] loss: 0.921, acc: 0.703: 100%|██████████| 313/313 [00:05<00:00, 60.25it/s]\n",
      "[train epoch 55] loss: 0.577, acc: 0.791: 100%|██████████| 1094/1094 [00:54<00:00, 20.05it/s]\n",
      "[valid epoch 55] loss: 0.931, acc: 0.702: 100%|██████████| 313/313 [00:05<00:00, 59.99it/s]\n",
      "[train epoch 56] loss: 0.558, acc: 0.797: 100%|██████████| 1094/1094 [00:54<00:00, 20.04it/s]\n",
      "[valid epoch 56] loss: 0.942, acc: 0.704: 100%|██████████| 313/313 [00:05<00:00, 60.07it/s]\n",
      "[train epoch 57] loss: 0.547, acc: 0.802: 100%|██████████| 1094/1094 [00:54<00:00, 20.02it/s]\n",
      "[valid epoch 57] loss: 0.935, acc: 0.708: 100%|██████████| 313/313 [00:05<00:00, 60.21it/s]\n",
      "[train epoch 58] loss: 0.525, acc: 0.811: 100%|██████████| 1094/1094 [00:54<00:00, 20.01it/s]\n",
      "[valid epoch 58] loss: 0.929, acc: 0.707: 100%|██████████| 313/313 [00:05<00:00, 60.17it/s]\n",
      "[train epoch 59] loss: 0.511, acc: 0.815: 100%|██████████| 1094/1094 [00:54<00:00, 20.01it/s]\n",
      "[valid epoch 59] loss: 0.920, acc: 0.713: 100%|██████████| 313/313 [00:05<00:00, 59.77it/s]\n"
     ]
    },
    {
     "name": "stdout",
     "output_type": "stream",
     "text": [
      "The best model is save!\n"
     ]
    },
    {
     "name": "stderr",
     "output_type": "stream",
     "text": [
      "[train epoch 60] loss: 0.494, acc: 0.822: 100%|██████████| 1094/1094 [00:54<00:00, 20.05it/s]\n",
      "[valid epoch 60] loss: 0.932, acc: 0.708: 100%|██████████| 313/313 [00:05<00:00, 60.92it/s]\n",
      "[train epoch 61] loss: 0.489, acc: 0.822: 100%|██████████| 1094/1094 [00:53<00:00, 20.42it/s]\n",
      "[valid epoch 61] loss: 0.916, acc: 0.711: 100%|██████████| 313/313 [00:05<00:00, 61.30it/s]\n",
      "[train epoch 62] loss: 0.473, acc: 0.829: 100%|██████████| 1094/1094 [00:53<00:00, 20.44it/s]\n",
      "[valid epoch 62] loss: 0.936, acc: 0.710: 100%|██████████| 313/313 [00:05<00:00, 61.27it/s]\n",
      "[train epoch 63] loss: 0.452, acc: 0.835: 100%|██████████| 1094/1094 [00:53<00:00, 20.47it/s]\n",
      "[valid epoch 63] loss: 0.959, acc: 0.711: 100%|██████████| 313/313 [00:05<00:00, 61.34it/s]\n",
      "[train epoch 64] loss: 0.443, acc: 0.841: 100%|██████████| 1094/1094 [00:53<00:00, 20.46it/s]\n",
      "[valid epoch 64] loss: 0.950, acc: 0.713: 100%|██████████| 313/313 [00:05<00:00, 61.21it/s]\n"
     ]
    },
    {
     "name": "stdout",
     "output_type": "stream",
     "text": [
      "The best model is save!\n"
     ]
    },
    {
     "name": "stderr",
     "output_type": "stream",
     "text": [
      "[train epoch 65] loss: 0.428, acc: 0.847: 100%|██████████| 1094/1094 [00:53<00:00, 20.49it/s]\n",
      "[valid epoch 65] loss: 0.957, acc: 0.717: 100%|██████████| 313/313 [00:05<00:00, 61.31it/s]\n"
     ]
    },
    {
     "name": "stdout",
     "output_type": "stream",
     "text": [
      "The best model is save!\n"
     ]
    },
    {
     "name": "stderr",
     "output_type": "stream",
     "text": [
      "[train epoch 66] loss: 0.412, acc: 0.852: 100%|██████████| 1094/1094 [00:53<00:00, 20.48it/s]\n",
      "[valid epoch 66] loss: 0.965, acc: 0.711: 100%|██████████| 313/313 [00:05<00:00, 61.38it/s]\n",
      "[train epoch 67] loss: 0.399, acc: 0.855: 100%|██████████| 1094/1094 [00:53<00:00, 20.49it/s]\n",
      "[valid epoch 67] loss: 1.008, acc: 0.718: 100%|██████████| 313/313 [00:05<00:00, 61.43it/s]\n"
     ]
    },
    {
     "name": "stdout",
     "output_type": "stream",
     "text": [
      "The best model is save!\n"
     ]
    },
    {
     "name": "stderr",
     "output_type": "stream",
     "text": [
      "[train epoch 68] loss: 0.388, acc: 0.859: 100%|██████████| 1094/1094 [00:53<00:00, 20.50it/s]\n",
      "[valid epoch 68] loss: 1.002, acc: 0.711: 100%|██████████| 313/313 [00:05<00:00, 61.36it/s]\n",
      "[train epoch 69] loss: 0.372, acc: 0.864: 100%|██████████| 1094/1094 [00:53<00:00, 20.48it/s]\n",
      "[valid epoch 69] loss: 0.997, acc: 0.720: 100%|██████████| 313/313 [00:05<00:00, 61.20it/s]\n"
     ]
    },
    {
     "name": "stdout",
     "output_type": "stream",
     "text": [
      "The best model is save!\n"
     ]
    },
    {
     "name": "stderr",
     "output_type": "stream",
     "text": [
      "[train epoch 70] loss: 0.358, acc: 0.869: 100%|██████████| 1094/1094 [00:53<00:00, 20.51it/s]\n",
      "[valid epoch 70] loss: 1.036, acc: 0.713: 100%|██████████| 313/313 [00:05<00:00, 61.62it/s]\n",
      "[train epoch 71] loss: 0.342, acc: 0.876: 100%|██████████| 1094/1094 [00:53<00:00, 20.52it/s]\n",
      "[valid epoch 71] loss: 1.028, acc: 0.719: 100%|██████████| 313/313 [00:05<00:00, 61.04it/s]\n",
      "[train epoch 72] loss: 0.333, acc: 0.881: 100%|██████████| 1094/1094 [00:53<00:00, 20.54it/s]\n",
      "[valid epoch 72] loss: 1.095, acc: 0.714: 100%|██████████| 313/313 [00:05<00:00, 61.54it/s]\n",
      "[train epoch 73] loss: 0.312, acc: 0.887: 100%|██████████| 1094/1094 [00:53<00:00, 20.54it/s]\n",
      "[valid epoch 73] loss: 1.106, acc: 0.716: 100%|██████████| 313/313 [00:05<00:00, 61.60it/s]\n",
      "[train epoch 74] loss: 0.312, acc: 0.887: 100%|██████████| 1094/1094 [00:53<00:00, 20.55it/s]\n",
      "[valid epoch 74] loss: 1.105, acc: 0.711: 100%|██████████| 313/313 [00:05<00:00, 61.67it/s]\n",
      "[train epoch 75] loss: 0.292, acc: 0.894: 100%|██████████| 1094/1094 [00:53<00:00, 20.53it/s]\n",
      "[valid epoch 75] loss: 1.075, acc: 0.717: 100%|██████████| 313/313 [00:05<00:00, 61.74it/s]\n",
      "[train epoch 76] loss: 0.282, acc: 0.899: 100%|██████████| 1094/1094 [00:53<00:00, 20.58it/s]\n",
      "[valid epoch 76] loss: 1.101, acc: 0.714: 100%|██████████| 313/313 [00:05<00:00, 61.57it/s]\n",
      "[train epoch 77] loss: 0.268, acc: 0.903: 100%|██████████| 1094/1094 [00:53<00:00, 20.27it/s]\n",
      "[valid epoch 77] loss: 1.150, acc: 0.716: 100%|██████████| 313/313 [00:05<00:00, 60.75it/s]\n",
      "[train epoch 78] loss: 0.262, acc: 0.905: 100%|██████████| 1094/1094 [00:54<00:00, 20.23it/s]\n",
      "[valid epoch 78] loss: 1.158, acc: 0.718: 100%|██████████| 313/313 [00:05<00:00, 60.89it/s]\n",
      "[train epoch 79] loss: 0.250, acc: 0.910: 100%|██████████| 1094/1094 [00:54<00:00, 20.22it/s]\n",
      "[valid epoch 79] loss: 1.151, acc: 0.721: 100%|██████████| 313/313 [00:05<00:00, 60.62it/s]\n"
     ]
    },
    {
     "name": "stdout",
     "output_type": "stream",
     "text": [
      "The best model is save!\n"
     ]
    },
    {
     "name": "stderr",
     "output_type": "stream",
     "text": [
      "[train epoch 80] loss: 0.236, acc: 0.914: 100%|██████████| 1094/1094 [00:54<00:00, 20.19it/s]\n",
      "[valid epoch 80] loss: 1.179, acc: 0.721: 100%|██████████| 313/313 [00:05<00:00, 60.84it/s]\n"
     ]
    },
    {
     "name": "stdout",
     "output_type": "stream",
     "text": [
      "The best model is save!\n"
     ]
    },
    {
     "name": "stderr",
     "output_type": "stream",
     "text": [
      "[train epoch 81] loss: 0.235, acc: 0.916: 100%|██████████| 1094/1094 [00:54<00:00, 20.22it/s]\n",
      "[valid epoch 81] loss: 1.159, acc: 0.718: 100%|██████████| 313/313 [00:05<00:00, 60.59it/s]\n",
      "[train epoch 82] loss: 0.220, acc: 0.919: 100%|██████████| 1094/1094 [00:54<00:00, 20.21it/s]\n",
      "[valid epoch 82] loss: 1.201, acc: 0.721: 100%|██████████| 313/313 [00:05<00:00, 60.62it/s]\n"
     ]
    },
    {
     "name": "stdout",
     "output_type": "stream",
     "text": [
      "The best model is save!\n"
     ]
    },
    {
     "name": "stderr",
     "output_type": "stream",
     "text": [
      "[train epoch 83] loss: 0.212, acc: 0.925: 100%|██████████| 1094/1094 [00:53<00:00, 20.50it/s]\n",
      "[valid epoch 83] loss: 1.264, acc: 0.716: 100%|██████████| 313/313 [00:05<00:00, 61.78it/s]\n",
      "[train epoch 84] loss: 0.206, acc: 0.927: 100%|██████████| 1094/1094 [00:53<00:00, 20.57it/s]\n",
      "[valid epoch 84] loss: 1.257, acc: 0.718: 100%|██████████| 313/313 [00:05<00:00, 61.85it/s]\n",
      "[train epoch 85] loss: 0.203, acc: 0.927: 100%|██████████| 1094/1094 [00:53<00:00, 20.60it/s]\n",
      "[valid epoch 85] loss: 1.210, acc: 0.721: 100%|██████████| 313/313 [00:05<00:00, 61.84it/s]\n"
     ]
    },
    {
     "name": "stdout",
     "output_type": "stream",
     "text": [
      "The best model is save!\n"
     ]
    },
    {
     "name": "stderr",
     "output_type": "stream",
     "text": [
      "[train epoch 86] loss: 0.189, acc: 0.932: 100%|██████████| 1094/1094 [00:53<00:00, 20.62it/s]\n",
      "[valid epoch 86] loss: 1.242, acc: 0.721: 100%|██████████| 313/313 [00:05<00:00, 61.72it/s]\n"
     ]
    },
    {
     "name": "stdout",
     "output_type": "stream",
     "text": [
      "The best model is save!\n"
     ]
    },
    {
     "name": "stderr",
     "output_type": "stream",
     "text": [
      "[train epoch 87] loss: 0.180, acc: 0.937: 100%|██████████| 1094/1094 [00:53<00:00, 20.60it/s]\n",
      "[valid epoch 87] loss: 1.245, acc: 0.720: 100%|██████████| 313/313 [00:05<00:00, 61.98it/s]\n",
      "[train epoch 88] loss: 0.174, acc: 0.937: 100%|██████████| 1094/1094 [00:53<00:00, 20.61it/s]\n",
      "[valid epoch 88] loss: 1.288, acc: 0.724: 100%|██████████| 313/313 [00:05<00:00, 61.96it/s]\n"
     ]
    },
    {
     "name": "stdout",
     "output_type": "stream",
     "text": [
      "The best model is save!\n"
     ]
    },
    {
     "name": "stderr",
     "output_type": "stream",
     "text": [
      "[train epoch 89] loss: 0.169, acc: 0.940: 100%|██████████| 1094/1094 [00:53<00:00, 20.45it/s]\n",
      "[valid epoch 89] loss: 1.257, acc: 0.728: 100%|██████████| 313/313 [00:05<00:00, 61.86it/s]\n"
     ]
    },
    {
     "name": "stdout",
     "output_type": "stream",
     "text": [
      "The best model is save!\n"
     ]
    },
    {
     "name": "stderr",
     "output_type": "stream",
     "text": [
      "[train epoch 90] loss: 0.160, acc: 0.942: 100%|██████████| 1094/1094 [00:53<00:00, 20.63it/s]\n",
      "[valid epoch 90] loss: 1.282, acc: 0.724: 100%|██████████| 313/313 [00:05<00:00, 61.54it/s]\n",
      "[train epoch 91] loss: 0.154, acc: 0.944: 100%|██████████| 1094/1094 [00:53<00:00, 20.47it/s]\n",
      "[valid epoch 91] loss: 1.337, acc: 0.723: 100%|██████████| 313/313 [00:05<00:00, 61.72it/s]\n",
      "[train epoch 92] loss: 0.149, acc: 0.946: 100%|██████████| 1094/1094 [00:53<00:00, 20.63it/s]\n",
      "[valid epoch 92] loss: 1.325, acc: 0.723: 100%|██████████| 313/313 [00:05<00:00, 61.97it/s]\n",
      "[train epoch 93] loss: 0.140, acc: 0.952: 100%|██████████| 1094/1094 [00:52<00:00, 20.65it/s]\n",
      "[valid epoch 93] loss: 1.348, acc: 0.725: 100%|██████████| 313/313 [00:05<00:00, 61.86it/s]\n",
      "[train epoch 94] loss: 0.140, acc: 0.950: 100%|██████████| 1094/1094 [00:52<00:00, 20.65it/s]\n",
      "[valid epoch 94] loss: 1.357, acc: 0.725: 100%|██████████| 313/313 [00:05<00:00, 62.00it/s]\n",
      "[train epoch 95] loss: 0.129, acc: 0.953: 100%|██████████| 1094/1094 [00:52<00:00, 20.65it/s]\n",
      "[valid epoch 95] loss: 1.404, acc: 0.722: 100%|██████████| 313/313 [00:05<00:00, 61.23it/s]\n",
      "[train epoch 96] loss: 0.127, acc: 0.954: 100%|██████████| 1094/1094 [00:53<00:00, 20.33it/s]\n",
      "[valid epoch 96] loss: 1.390, acc: 0.720: 100%|██████████| 313/313 [00:05<00:00, 61.08it/s]\n",
      "[train epoch 97] loss: 0.121, acc: 0.957: 100%|██████████| 1094/1094 [00:53<00:00, 20.33it/s]\n",
      "[valid epoch 97] loss: 1.392, acc: 0.725: 100%|██████████| 313/313 [00:05<00:00, 61.02it/s]\n",
      "[train epoch 98] loss: 0.116, acc: 0.959: 100%|██████████| 1094/1094 [00:53<00:00, 20.30it/s]\n",
      "[valid epoch 98] loss: 1.403, acc: 0.725: 100%|██████████| 313/313 [00:05<00:00, 61.09it/s]\n",
      "[train epoch 99] loss: 0.116, acc: 0.959: 100%|██████████| 1094/1094 [00:53<00:00, 20.30it/s]\n",
      "[valid epoch 99] loss: 1.404, acc: 0.729: 100%|██████████| 313/313 [00:05<00:00, 60.88it/s]\n"
     ]
    },
    {
     "name": "stdout",
     "output_type": "stream",
     "text": [
      "The best model is save!\n"
     ]
    },
    {
     "name": "stderr",
     "output_type": "stream",
     "text": [
      "[train epoch 100] loss: 0.102, acc: 0.963: 100%|██████████| 1094/1094 [00:54<00:00, 20.25it/s]\n",
      "[valid epoch 100] loss: 1.468, acc: 0.720: 100%|██████████| 313/313 [00:05<00:00, 61.03it/s]\n",
      "[train epoch 101] loss: 0.101, acc: 0.964: 100%|██████████| 1094/1094 [00:53<00:00, 20.29it/s]\n",
      "[valid epoch 101] loss: 1.478, acc: 0.725: 100%|██████████| 313/313 [00:05<00:00, 60.84it/s]\n",
      "[train epoch 102] loss: 0.098, acc: 0.965: 100%|██████████| 1094/1094 [00:53<00:00, 20.28it/s]\n",
      "[valid epoch 102] loss: 1.446, acc: 0.731: 100%|██████████| 313/313 [00:05<00:00, 60.87it/s]\n"
     ]
    },
    {
     "name": "stdout",
     "output_type": "stream",
     "text": [
      "The best model is save!\n"
     ]
    },
    {
     "name": "stderr",
     "output_type": "stream",
     "text": [
      "[train epoch 103] loss: 0.095, acc: 0.966: 100%|██████████| 1094/1094 [00:53<00:00, 20.26it/s]\n",
      "[valid epoch 103] loss: 1.465, acc: 0.730: 100%|██████████| 313/313 [00:05<00:00, 60.76it/s]\n",
      "[train epoch 104] loss: 0.086, acc: 0.968:  57%|█████▋    | 619/1094 [00:30<00:23, 20.15it/s]\n"
     ]
    },
    {
     "ename": "KeyboardInterrupt",
     "evalue": "",
     "output_type": "error",
     "traceback": [
      "\u001b[0;31m---------------------------------------------------------------------------\u001b[0m",
      "\u001b[0;31mKeyboardInterrupt\u001b[0m                         Traceback (most recent call last)",
      "\u001b[1;32m/media/lhw/T7/paper/vit-tracin/train_cifar10.ipynb Cell 12\u001b[0m in \u001b[0;36m<cell line: 1>\u001b[0;34m()\u001b[0m\n\u001b[1;32m     <a href='vscode-notebook-cell:/media/lhw/T7/paper/vit-tracin/train_cifar10.ipynb#ch0000008?line=23'>24</a>\u001b[0m     accu_loss \u001b[39m+\u001b[39m\u001b[39m=\u001b[39m loss\u001b[39m.\u001b[39mdetach()\n\u001b[1;32m     <a href='vscode-notebook-cell:/media/lhw/T7/paper/vit-tracin/train_cifar10.ipynb#ch0000008?line=25'>26</a>\u001b[0m     data_loader\u001b[39m.\u001b[39mdesc \u001b[39m=\u001b[39m \u001b[39m\"\u001b[39m\u001b[39m[train epoch \u001b[39m\u001b[39m{}\u001b[39;00m\u001b[39m] loss: \u001b[39m\u001b[39m{:.3f}\u001b[39;00m\u001b[39m, acc: \u001b[39m\u001b[39m{:.3f}\u001b[39;00m\u001b[39m\"\u001b[39m\u001b[39m.\u001b[39mformat(epoch,\n\u001b[1;32m     <a href='vscode-notebook-cell:/media/lhw/T7/paper/vit-tracin/train_cifar10.ipynb#ch0000008?line=26'>27</a>\u001b[0m                                                                            accu_loss\u001b[39m.\u001b[39mitem() \u001b[39m/\u001b[39m (step \u001b[39m+\u001b[39m \u001b[39m1\u001b[39m),\n\u001b[1;32m     <a href='vscode-notebook-cell:/media/lhw/T7/paper/vit-tracin/train_cifar10.ipynb#ch0000008?line=27'>28</a>\u001b[0m                                                                            accu_num\u001b[39m.\u001b[39mitem() \u001b[39m/\u001b[39m sample_num)\n\u001b[0;32m---> <a href='vscode-notebook-cell:/media/lhw/T7/paper/vit-tracin/train_cifar10.ipynb#ch0000008?line=28'>29</a>\u001b[0m     optimizer\u001b[39m.\u001b[39;49mstep()  \u001b[39m# 更新\u001b[39;00m\n\u001b[1;32m     <a href='vscode-notebook-cell:/media/lhw/T7/paper/vit-tracin/train_cifar10.ipynb#ch0000008?line=29'>30</a>\u001b[0m     optimizer\u001b[39m.\u001b[39mzero_grad()\n\u001b[1;32m     <a href='vscode-notebook-cell:/media/lhw/T7/paper/vit-tracin/train_cifar10.ipynb#ch0000008?line=31'>32</a>\u001b[0m train_loss \u001b[39m=\u001b[39m  accu_loss\u001b[39m.\u001b[39mitem() \u001b[39m/\u001b[39m (step \u001b[39m+\u001b[39m \u001b[39m1\u001b[39m)\n",
      "File \u001b[0;32m~/anaconda3/envs/env1/lib/python3.9/site-packages/torch/optim/lr_scheduler.py:65\u001b[0m, in \u001b[0;36m_LRScheduler.__init__.<locals>.with_counter.<locals>.wrapper\u001b[0;34m(*args, **kwargs)\u001b[0m\n\u001b[1;32m     63\u001b[0m instance\u001b[39m.\u001b[39m_step_count \u001b[39m+\u001b[39m\u001b[39m=\u001b[39m \u001b[39m1\u001b[39m\n\u001b[1;32m     64\u001b[0m wrapped \u001b[39m=\u001b[39m func\u001b[39m.\u001b[39m\u001b[39m__get__\u001b[39m(instance, \u001b[39mcls\u001b[39m)\n\u001b[0;32m---> 65\u001b[0m \u001b[39mreturn\u001b[39;00m wrapped(\u001b[39m*\u001b[39;49margs, \u001b[39m*\u001b[39;49m\u001b[39m*\u001b[39;49mkwargs)\n",
      "File \u001b[0;32m~/anaconda3/envs/env1/lib/python3.9/site-packages/torch/optim/optimizer.py:109\u001b[0m, in \u001b[0;36mOptimizer._hook_for_profile.<locals>.profile_hook_step.<locals>.wrapper\u001b[0;34m(*args, **kwargs)\u001b[0m\n\u001b[1;32m    107\u001b[0m profile_name \u001b[39m=\u001b[39m \u001b[39m\"\u001b[39m\u001b[39mOptimizer.step#\u001b[39m\u001b[39m{}\u001b[39;00m\u001b[39m.step\u001b[39m\u001b[39m\"\u001b[39m\u001b[39m.\u001b[39mformat(obj\u001b[39m.\u001b[39m\u001b[39m__class__\u001b[39m\u001b[39m.\u001b[39m\u001b[39m__name__\u001b[39m)\n\u001b[1;32m    108\u001b[0m \u001b[39mwith\u001b[39;00m torch\u001b[39m.\u001b[39mautograd\u001b[39m.\u001b[39mprofiler\u001b[39m.\u001b[39mrecord_function(profile_name):\n\u001b[0;32m--> 109\u001b[0m     \u001b[39mreturn\u001b[39;00m func(\u001b[39m*\u001b[39;49margs, \u001b[39m*\u001b[39;49m\u001b[39m*\u001b[39;49mkwargs)\n",
      "File \u001b[0;32m~/anaconda3/envs/env1/lib/python3.9/site-packages/torch/autograd/grad_mode.py:27\u001b[0m, in \u001b[0;36m_DecoratorContextManager.__call__.<locals>.decorate_context\u001b[0;34m(*args, **kwargs)\u001b[0m\n\u001b[1;32m     24\u001b[0m \u001b[39m@functools\u001b[39m\u001b[39m.\u001b[39mwraps(func)\n\u001b[1;32m     25\u001b[0m \u001b[39mdef\u001b[39;00m \u001b[39mdecorate_context\u001b[39m(\u001b[39m*\u001b[39margs, \u001b[39m*\u001b[39m\u001b[39m*\u001b[39mkwargs):\n\u001b[1;32m     26\u001b[0m     \u001b[39mwith\u001b[39;00m \u001b[39mself\u001b[39m\u001b[39m.\u001b[39mclone():\n\u001b[0;32m---> 27\u001b[0m         \u001b[39mreturn\u001b[39;00m func(\u001b[39m*\u001b[39;49margs, \u001b[39m*\u001b[39;49m\u001b[39m*\u001b[39;49mkwargs)\n",
      "File \u001b[0;32m~/anaconda3/envs/env1/lib/python3.9/site-packages/torch/optim/adam.py:157\u001b[0m, in \u001b[0;36mAdam.step\u001b[0;34m(self, closure)\u001b[0m\n\u001b[1;32m    153\u001b[0m                 max_exp_avg_sqs\u001b[39m.\u001b[39mappend(state[\u001b[39m'\u001b[39m\u001b[39mmax_exp_avg_sq\u001b[39m\u001b[39m'\u001b[39m])\n\u001b[1;32m    155\u001b[0m             state_steps\u001b[39m.\u001b[39mappend(state[\u001b[39m'\u001b[39m\u001b[39mstep\u001b[39m\u001b[39m'\u001b[39m])\n\u001b[0;32m--> 157\u001b[0m     adam(params_with_grad,\n\u001b[1;32m    158\u001b[0m          grads,\n\u001b[1;32m    159\u001b[0m          exp_avgs,\n\u001b[1;32m    160\u001b[0m          exp_avg_sqs,\n\u001b[1;32m    161\u001b[0m          max_exp_avg_sqs,\n\u001b[1;32m    162\u001b[0m          state_steps,\n\u001b[1;32m    163\u001b[0m          amsgrad\u001b[39m=\u001b[39;49mgroup[\u001b[39m'\u001b[39;49m\u001b[39mamsgrad\u001b[39;49m\u001b[39m'\u001b[39;49m],\n\u001b[1;32m    164\u001b[0m          beta1\u001b[39m=\u001b[39;49mbeta1,\n\u001b[1;32m    165\u001b[0m          beta2\u001b[39m=\u001b[39;49mbeta2,\n\u001b[1;32m    166\u001b[0m          lr\u001b[39m=\u001b[39;49mgroup[\u001b[39m'\u001b[39;49m\u001b[39mlr\u001b[39;49m\u001b[39m'\u001b[39;49m],\n\u001b[1;32m    167\u001b[0m          weight_decay\u001b[39m=\u001b[39;49mgroup[\u001b[39m'\u001b[39;49m\u001b[39mweight_decay\u001b[39;49m\u001b[39m'\u001b[39;49m],\n\u001b[1;32m    168\u001b[0m          eps\u001b[39m=\u001b[39;49mgroup[\u001b[39m'\u001b[39;49m\u001b[39meps\u001b[39;49m\u001b[39m'\u001b[39;49m],\n\u001b[1;32m    169\u001b[0m          maximize\u001b[39m=\u001b[39;49mgroup[\u001b[39m'\u001b[39;49m\u001b[39mmaximize\u001b[39;49m\u001b[39m'\u001b[39;49m],\n\u001b[1;32m    170\u001b[0m          foreach\u001b[39m=\u001b[39;49mgroup[\u001b[39m'\u001b[39;49m\u001b[39mforeach\u001b[39;49m\u001b[39m'\u001b[39;49m],\n\u001b[1;32m    171\u001b[0m          capturable\u001b[39m=\u001b[39;49mgroup[\u001b[39m'\u001b[39;49m\u001b[39mcapturable\u001b[39;49m\u001b[39m'\u001b[39;49m])\n\u001b[1;32m    173\u001b[0m \u001b[39mreturn\u001b[39;00m loss\n",
      "File \u001b[0;32m~/anaconda3/envs/env1/lib/python3.9/site-packages/torch/optim/adam.py:213\u001b[0m, in \u001b[0;36madam\u001b[0;34m(params, grads, exp_avgs, exp_avg_sqs, max_exp_avg_sqs, state_steps, foreach, capturable, amsgrad, beta1, beta2, lr, weight_decay, eps, maximize)\u001b[0m\n\u001b[1;32m    210\u001b[0m \u001b[39melse\u001b[39;00m:\n\u001b[1;32m    211\u001b[0m     func \u001b[39m=\u001b[39m _single_tensor_adam\n\u001b[0;32m--> 213\u001b[0m func(params,\n\u001b[1;32m    214\u001b[0m      grads,\n\u001b[1;32m    215\u001b[0m      exp_avgs,\n\u001b[1;32m    216\u001b[0m      exp_avg_sqs,\n\u001b[1;32m    217\u001b[0m      max_exp_avg_sqs,\n\u001b[1;32m    218\u001b[0m      state_steps,\n\u001b[1;32m    219\u001b[0m      amsgrad\u001b[39m=\u001b[39;49mamsgrad,\n\u001b[1;32m    220\u001b[0m      beta1\u001b[39m=\u001b[39;49mbeta1,\n\u001b[1;32m    221\u001b[0m      beta2\u001b[39m=\u001b[39;49mbeta2,\n\u001b[1;32m    222\u001b[0m      lr\u001b[39m=\u001b[39;49mlr,\n\u001b[1;32m    223\u001b[0m      weight_decay\u001b[39m=\u001b[39;49mweight_decay,\n\u001b[1;32m    224\u001b[0m      eps\u001b[39m=\u001b[39;49meps,\n\u001b[1;32m    225\u001b[0m      maximize\u001b[39m=\u001b[39;49mmaximize,\n\u001b[1;32m    226\u001b[0m      capturable\u001b[39m=\u001b[39;49mcapturable)\n",
      "File \u001b[0;32m~/anaconda3/envs/env1/lib/python3.9/site-packages/torch/optim/adam.py:292\u001b[0m, in \u001b[0;36m_single_tensor_adam\u001b[0;34m(params, grads, exp_avgs, exp_avg_sqs, max_exp_avg_sqs, state_steps, amsgrad, beta1, beta2, lr, weight_decay, eps, maximize, capturable)\u001b[0m\n\u001b[1;32m    290\u001b[0m     param\u001b[39m.\u001b[39maddcdiv_(exp_avg, denom)\n\u001b[1;32m    291\u001b[0m \u001b[39melse\u001b[39;00m:\n\u001b[0;32m--> 292\u001b[0m     step \u001b[39m=\u001b[39m step_t\u001b[39m.\u001b[39;49mitem()\n\u001b[1;32m    294\u001b[0m     bias_correction1 \u001b[39m=\u001b[39m \u001b[39m1\u001b[39m \u001b[39m-\u001b[39m beta1 \u001b[39m*\u001b[39m\u001b[39m*\u001b[39m step\n\u001b[1;32m    295\u001b[0m     bias_correction2 \u001b[39m=\u001b[39m \u001b[39m1\u001b[39m \u001b[39m-\u001b[39m beta2 \u001b[39m*\u001b[39m\u001b[39m*\u001b[39m step\n",
      "\u001b[0;31mKeyboardInterrupt\u001b[0m: "
     ]
    }
   ],
   "source": [
    "for epoch in range(epochs):\n",
    "    \n",
    "    model.train()\n",
    "    accu_loss = torch.zeros(1).to(device)  # 累计损失\n",
    "    accu_num = torch.zeros(1).to(device)  # 累计预测正确的样本数\n",
    "    optimizer.zero_grad()\n",
    "\n",
    "    sample_num = 0\n",
    "    data_loader = tqdm(train_loader)\n",
    "    for step, data in enumerate(data_loader):\n",
    "        images, labels = data\n",
    "\n",
    "        sample_num += images.shape[0]\n",
    "\n",
    "        pred = model(images.to(device))\n",
    "        \n",
    "        pred_classes = torch.max(pred, dim=1)[1]  # 预测的类别，[1]是标签索引\n",
    "       \n",
    "        \n",
    "        accu_num += torch.eq(pred_classes, labels.to(device)).sum()\n",
    "        loss = loss_function(pred, labels.to(device))\n",
    "        loss.backward()\n",
    "        \n",
    "        accu_loss += loss.detach()\n",
    "        \n",
    "        data_loader.desc = \"[train epoch {}] loss: {:.3f}, acc: {:.3f}\".format(epoch,\n",
    "                                                                               accu_loss.item() / (step + 1),\n",
    "                                                                               accu_num.item() / sample_num)\n",
    "        optimizer.step()  # 更新\n",
    "        optimizer.zero_grad()\n",
    "    \n",
    "    train_loss =  accu_loss.item() / (step + 1)\n",
    "    train_acc = accu_num.item() / sample_num\n",
    "    val_loss, val_acc = utils.evaluate(model=model,\n",
    "                                data_loader=val_loader,\n",
    "                                device=device,\n",
    "                                epoch=epoch)\n",
    "    writer.add_scalar(tags[0], train_loss, epoch)\n",
    "    writer.add_scalar(tags[1], train_acc, epoch)\n",
    "    writer.add_scalar(tags[2], val_loss, epoch)\n",
    "    writer.add_scalar(tags[3], val_acc, epoch)\n",
    "    writer.add_scalar(tags[4], optimizer.param_groups[0][\"lr\"], epoch)\n",
    "    scheduler.step()\n",
    "    if save:\n",
    "        if (epoch+1)%10 == 0:\n",
    "            torch.save(model.state_dict(), \"./weights/model-{}.pth\".format(epoch + 1))\n",
    "        if best_acc <= val_acc:\n",
    "            best_acc = val_acc\n",
    "            print(\"The best model is save!\")\n",
    "            torch.save(model.state_dict(), \"./weights/model-best.pth\")"
   ]
  }
 ],
 "metadata": {
  "kernelspec": {
   "display_name": "Python 3.9.12 ('env1')",
   "language": "python",
   "name": "python3"
  },
  "language_info": {
   "codemirror_mode": {
    "name": "ipython",
    "version": 3
   },
   "file_extension": ".py",
   "mimetype": "text/x-python",
   "name": "python",
   "nbconvert_exporter": "python",
   "pygments_lexer": "ipython3",
   "version": "3.9.12"
  },
  "orig_nbformat": 4,
  "vscode": {
   "interpreter": {
    "hash": "ac2c9fc71220d1b58b3640599b1e22027da1326aa67720425adf09ad6c638495"
   }
  }
 },
 "nbformat": 4,
 "nbformat_minor": 2
}
